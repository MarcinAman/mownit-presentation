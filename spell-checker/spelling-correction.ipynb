{
 "cells": [
  {
   "cell_type": "code",
   "execution_count": 5,
   "metadata": {},
   "outputs": [
    {
     "name": "stdout",
     "output_type": "stream",
     "text": [
      "happening\n",
      "{'happening', 'penning', 'henning'}\n"
     ]
    }
   ],
   "source": [
    "# pip install pyspellchecker\n",
    "# source: http://www.uefap.com/writing/exercise/spell/ado1fram.htm\n",
    "\n",
    "# It uses a Levenshtein Distance algorithm to find permutations within an edit distance of 2 from the original word. \n",
    "# It then compares all permutations to known words in a word frequency list. \n",
    "# Those words that are found more often in the frequency list are more likely the correct results.\n",
    "\n",
    "from spellchecker import SpellChecker\n",
    "\n",
    "# default distance is 2\n",
    "spell = SpellChecker()\n",
    "\n",
    "# find those words that may be misspelled\n",
    "misspelled = spell.unknown(['something', 'is', 'hapenning', 'here'])\n",
    "\n",
    "for word in misspelled:\n",
    "    # Get the one `most likely` answer\n",
    "    print(spell.correction(word))\n",
    "\n",
    "    # Get a list of `likely` options\n",
    "    print(spell.candidates(word))"
   ]
  },
  {
   "cell_type": "code",
   "execution_count": 6,
   "metadata": {},
   "outputs": [],
   "source": [
    "long_text_with_mistakes = 'In deeling with students on the hih-school level - that is, the second, third, and forth year of high school - we must bare in mind that to some degree they are at a dificult sychological stage, generaly called adolesence. Students at this level are likely to be confused mentaly, to be subject to involuntery distractions and romantic dreamines. They are basicaly timid or self-consious, they lack frankness and are usualy very sensitive but hate to admit it. They are motivated iether by great ambition, probably out of all proportion to their capabiltys, or by extreme lazines caused by the fear of not suceeding or ataining their objectives. Fundamentaly they want to be kept busy but they refuse to admit it. They are frequently the victims of earlier poor training, and this makes evary effort doubly hard. They are usually wiling to work, but they hate to work without obtaining the results they think they shoud obtain. Their critical faculties are begining to develop and they are critical of their instructers and of the materiels they are given to laern. They are begining to feel the presher of time; and althouh they seldem say so, they really want to be consulted and given an oportunity to direct their own afairs, but they need considerable gidance.'"
   ]
  },
  {
   "cell_type": "code",
   "execution_count": 7,
   "metadata": {},
   "outputs": [],
   "source": [
    "correct = 'In dealing with students on the high-school level - that is, the second, third, and fourth year of high school - we must bear in mind that to some degree they are at a difficult psychological stage, generally called adolescence. Students at this level are likely to be confused mentally, to be subject to involuntary distractions and romantic dreaminess. They are basically timid or self-conscious, they lack frankness and are usually very sensitive but hate to admit it. They are motivated either by great ambition, probably out of all proportion to their capabilities, or by extreme laziness caused by the fear of not succeeding or attaining their objectives. Fundamentally they want to be kept busy but they refuse to admit it. They are frequently the victims of earlier poor training, and this makes every effort doubly hard. They are usually willing to work, but they hate to work without obtaining the results they think they should obtain. Their critical faculties are beginning to develop and they are critical of their instructors and of the materials they are given to learn. They are beginning to feel the pressure of time  and although they seldom say so, they really want to be consulted and given an opportunity to direct their own affairs, but they need considerable guidance.'"
   ]
  },
  {
   "cell_type": "code",
   "execution_count": 8,
   "metadata": {},
   "outputs": [
    {
     "name": "stdout",
     "output_type": "stream",
     "text": [
      "Mistake: deeling Corrected: feeling Correct: dealing\n",
      "Mistake: forth Corrected: forth Correct: fourth\n",
      "Mistake: bare Corrected: bare Correct: bear\n",
      "Mistake: generaly Corrected: general Correct: generally\n",
      "Mistake: mentaly, Corrected: mental Correct: mentally,\n",
      "Mistake: capabiltys, Corrected: capabiltys, Correct: capabilities,\n",
      "Mistake: ataining Corrected: staining Correct: attaining\n",
      "Mistake: Fundamentaly Corrected: fundamental Correct: Fundamentally\n",
      "Mistake: presher Corrected: fresher Correct: pressure\n"
     ]
    }
   ],
   "source": [
    "mistakes_splitted = list(long_text_with_mistakes.split())\n",
    "correct_splitted = list(correct.split())\n",
    "\n",
    "for i in range(0, len(mistakes_splitted)):\n",
    "    corrected = spell.correction(mistakes_splitted[i])\n",
    "    correct = correct_splitted[i]\n",
    "    \n",
    "    if corrected != correct.strip(',') and corrected != correct.strip('.') and corrected.lower() != correct.lower():\n",
    "        print('Mistake: ' + mistakes_splitted[i] + ' Corrected: ' + corrected + ' Correct: ' + correct)"
   ]
  },
  {
   "cell_type": "code",
   "execution_count": null,
   "metadata": {},
   "outputs": [],
   "source": []
  }
 ],
 "metadata": {
  "kernelspec": {
   "display_name": "Python 3",
   "language": "python",
   "name": "python3"
  },
  "language_info": {
   "codemirror_mode": {
    "name": "ipython",
    "version": 3
   },
   "file_extension": ".py",
   "mimetype": "text/x-python",
   "name": "python",
   "nbconvert_exporter": "python",
   "pygments_lexer": "ipython3",
   "version": "3.7.0"
  }
 },
 "nbformat": 4,
 "nbformat_minor": 2
}
